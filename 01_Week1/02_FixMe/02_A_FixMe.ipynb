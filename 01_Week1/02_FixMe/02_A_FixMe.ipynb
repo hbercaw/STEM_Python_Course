{
 "cells": [
  {
   "cell_type": "code",
   "execution_count": null,
   "metadata": {},
   "outputs": [],
   "source": [
    "%matplotlib inline\n",
    "# https://inventwithpython.com/blog/2012/07/09/16-common-python-runtime-errors-beginners-find/"
   ]
  },
  {
   "cell_type": "markdown",
   "metadata": {},
   "source": [
    "## Fixing Broken Code\n",
    "\n",
    "The following code snipets don't work. Follow along with the [flow chart](https://pythonforbiologists.com/29-common-beginner-errors-on-one-page) and use google and stackoverflow to get these pieces of code working properly."
   ]
  },
  {
   "cell_type": "code",
   "execution_count": null,
   "metadata": {},
   "outputs": [],
   "source": [
    "print(\"Hello\")\n",
    "    print(\"world\")"
   ]
  },
  {
   "cell_type": "code",
   "execution_count": 3,
   "metadata": {},
   "outputs": [],
   "source": [
    "def Hello():\n",
    "    print(\"Hello World\")"
   ]
  },
  {
   "cell_type": "code",
   "execution_count": 1,
   "metadata": {},
   "outputs": [
    {
     "name": "stdout",
     "output_type": "stream",
     "text": [
      "biology\n",
      "physics\n",
      "chemistry\n"
     ]
    }
   ],
   "source": [
    "science = ['biology', 'physics', 'chemistry']\n",
    "for i in science:\n",
    "    print(i)\n",
    "    "
   ]
  },
  {
   "cell_type": "code",
   "execution_count": 8,
   "metadata": {},
   "outputs": [
    {
     "name": "stdout",
     "output_type": "stream",
     "text": [
      "chemistry\n"
     ]
    }
   ],
   "source": [
    "print(science[2])\n"
   ]
  },
  {
   "cell_type": "code",
   "execution_count": 9,
   "metadata": {},
   "outputs": [
    {
     "name": "stdout",
     "output_type": "stream",
     "text": [
      "a\n"
     ]
    }
   ],
   "source": [
    "spam = 'My favorite food is Spam!'\n",
    "\n",
    "print(spam[4])"
   ]
  },
  {
   "cell_type": "code",
   "execution_count": 11,
   "metadata": {},
   "outputs": [
    {
     "name": "stdout",
     "output_type": "stream",
     "text": [
      "My favorite number is 4 !\n"
     ]
    }
   ],
   "source": [
    "print(\"My favorite number is\",  4 ,\"!\")"
   ]
  },
  {
   "cell_type": "code",
   "execution_count": 14,
   "metadata": {},
   "outputs": [
    {
     "name": "stdout",
     "output_type": "stream",
     "text": [
      "My name is Monty Python. How are you?\n"
     ]
    }
   ],
   "source": [
    "myName = 'Monty Python'\n",
    "\n",
    "print('My name is ' + myName + '. How are you?')"
   ]
  },
  {
   "cell_type": "code",
   "execution_count": 32,
   "metadata": {},
   "outputs": [],
   "source": [
    "myList = ['biology', 'physics','chemistry']\n"
   ]
  },
  {
   "cell_type": "code",
   "execution_count": 34,
   "metadata": {},
   "outputs": [
    {
     "name": "stdout",
     "output_type": "stream",
     "text": [
      "Wow you got the answer!\n",
      "\n"
     ]
    }
   ],
   "source": [
    "def answer(MyAnswer):\n",
    "    if MyAnswer == 42:\n",
    "        print(\"Wow you got the answer!\")\n",
    "    else:\n",
    "        print(\"Wrong Answer\")\n",
    "        \n",
    "answer(42)\n",
    "print()"
   ]
  },
  {
   "cell_type": "code",
   "execution_count": 37,
   "metadata": {},
   "outputs": [
    {
     "ename": "NameError",
     "evalue": "name 'output' is not defined",
     "output_type": "error",
     "traceback": [
      "\u001b[0;31m-------------------------------------------------------------------------\u001b[0m",
      "\u001b[0;31mNameError\u001b[0m                               Traceback (most recent call last)",
      "\u001b[0;32m<ipython-input-37-107dd8ec7d35>\u001b[0m in \u001b[0;36m<module>\u001b[0;34m\u001b[0m\n\u001b[1;32m      4\u001b[0m     \u001b[0mprint\u001b[0m\u001b[0;34m(\u001b[0m\u001b[0moutput\u001b[0m\u001b[0;34m)\u001b[0m\u001b[0;34m\u001b[0m\u001b[0;34m\u001b[0m\u001b[0m\n\u001b[1;32m      5\u001b[0m \u001b[0;34m\u001b[0m\u001b[0m\n\u001b[0;32m----> 6\u001b[0;31m \u001b[0mgoodBye\u001b[0m\u001b[0;34m(\u001b[0m\u001b[0;34m)\u001b[0m\u001b[0;34m\u001b[0m\u001b[0;34m\u001b[0m\u001b[0m\n\u001b[0m",
      "\u001b[0;32m<ipython-input-37-107dd8ec7d35>\u001b[0m in \u001b[0;36mgoodBye\u001b[0;34m()\u001b[0m\n\u001b[1;32m      1\u001b[0m \u001b[0;32mdef\u001b[0m \u001b[0mgoodBye\u001b[0m\u001b[0;34m(\u001b[0m\u001b[0;34m)\u001b[0m\u001b[0;34m:\u001b[0m\u001b[0;34m\u001b[0m\u001b[0;34m\u001b[0m\u001b[0m\n\u001b[1;32m      2\u001b[0m     \u001b[0;32mfor\u001b[0m \u001b[0mi\u001b[0m \u001b[0;32min\u001b[0m \u001b[0mrange\u001b[0m\u001b[0;34m(\u001b[0m\u001b[0;36m0\u001b[0m\u001b[0;34m,\u001b[0m\u001b[0;36m3\u001b[0m\u001b[0;34m)\u001b[0m\u001b[0;34m:\u001b[0m\u001b[0;34m\u001b[0m\u001b[0;34m\u001b[0m\u001b[0m\n\u001b[0;32m----> 3\u001b[0;31m         \u001b[0moutput\u001b[0m\u001b[0;34m.\u001b[0m\u001b[0mappend\u001b[0m\u001b[0;34m(\u001b[0m\u001b[0;34m\"Bye\"\u001b[0m\u001b[0;34m)\u001b[0m\u001b[0;34m\u001b[0m\u001b[0;34m\u001b[0m\u001b[0m\n\u001b[0m\u001b[1;32m      4\u001b[0m     \u001b[0mprint\u001b[0m\u001b[0;34m(\u001b[0m\u001b[0moutput\u001b[0m\u001b[0;34m)\u001b[0m\u001b[0;34m\u001b[0m\u001b[0;34m\u001b[0m\u001b[0m\n\u001b[1;32m      5\u001b[0m \u001b[0;34m\u001b[0m\u001b[0m\n",
      "\u001b[0;31mNameError\u001b[0m: name 'output' is not defined"
     ]
    }
   ],
   "source": [
    "def goodBye():\n",
    "    for i in range(0,3):\n",
    "        output.append(\"Bye\")\n",
    "    print(output)\n",
    "        \n",
    "goodBye()"
   ]
  },
  {
   "cell_type": "code",
   "execution_count": 40,
   "metadata": {},
   "outputs": [
    {
     "data": {
      "text/plain": [
       "75361"
      ]
     },
     "execution_count": 40,
     "metadata": {},
     "output_type": "execute_result"
    }
   ],
   "source": [
    "import numpy as np\n",
    "\n",
    "def my_random_number():\n",
    "    return np.random.randint(0, 1E5)\n",
    "\n",
    "my_random_number()"
   ]
  },
  {
   "cell_type": "code",
   "execution_count": 42,
   "metadata": {},
   "outputs": [
    {
     "ename": "IndentationError",
     "evalue": "expected an indented block (<ipython-input-42-fe1c294a744e>, line 3)",
     "output_type": "error",
     "traceback": [
      "\u001b[0;36m  File \u001b[0;32m\"<ipython-input-42-fe1c294a744e>\"\u001b[0;36m, line \u001b[0;32m3\u001b[0m\n\u001b[0;31m    print[i]\u001b[0m\n\u001b[0m            ^\u001b[0m\n\u001b[0;31mIndentationError\u001b[0m\u001b[0;31m:\u001b[0m expected an indented block\n"
     ]
    }
   ],
   "source": [
    "for i in range(0,100):\n",
    "    if i % 10 == 0:\n",
    "print[i]"
   ]
  },
  {
   "cell_type": "code",
   "execution_count": null,
   "metadata": {},
   "outputs": [],
   "source": [
    "my_class = ['biology', 'physics', 'chemistry', 'python']\n",
    "\n",
    "for i in range(len(my_class)):\n",
    "    print(my_class[i]+\"-\"+my_class[i+1])"
   ]
  },
  {
   "cell_type": "markdown",
   "metadata": {},
   "source": [
    "## Handling Errors\n",
    "\n",
    "Sometime we will run into errors that we need to check for and handle.\n",
    "\n",
    "Try fixing these errors with if statements or [try except](https://docs.python.org/3/tutorial/errors.html) statements."
   ]
  },
  {
   "cell_type": "code",
   "execution_count": null,
   "metadata": {},
   "outputs": [],
   "source": [
    "def super_complex_calculation(number):\n",
    "    import numpy as np\n",
    "    return 1/np.random.randint(0, 10)\n",
    "\n",
    "for number in range(0,20):\n",
    "    x = super_complex_calculation(number)\n",
    "    print(x)"
   ]
  },
  {
   "cell_type": "code",
   "execution_count": null,
   "metadata": {},
   "outputs": [],
   "source": [
    "try:\n",
    "    pass\n",
    "except:\n",
    "    pass"
   ]
  },
  {
   "cell_type": "markdown",
   "metadata": {},
   "source": [
    "## Library Errors\n",
    "\n",
    "Errors from libraries can be long and complicatied.\n",
    "\n",
    "Tips for reading long errors:\n",
    "\n",
    "1) The top lines will show where in your code there is a problem\n",
    "\n",
    "2) At the bottom will be the error type and a small description\n",
    "\n",
    "3) Everything inbetween is the libraries code. Unless you wrote the library don't worry too much about it.\n"
   ]
  },
  {
   "cell_type": "markdown",
   "metadata": {},
   "source": [
    "## ===============================================================\n",
    "\n",
    "1) The top lines will show where in your code there is a problem:\n",
    "\n",
    "``` python\n",
    "---------------------------------------------------------------------------\n",
    "NameError                                 Traceback (most recent call last)\n",
    "<ipython-input-23-e52bc58c0cd7> in <module>\n",
    "      4     return x+y\n",
    "      5 \n",
    "----> 6 z = add()\n",
    "```\n",
    "2) At the bottom will be the error type and a small description\n",
    "\n",
    "```python\n",
    "NameError: name 'np' is not defined\n",
    "```"
   ]
  },
  {
   "cell_type": "code",
   "execution_count": null,
   "metadata": {},
   "outputs": [],
   "source": [
    "def add():\n",
    "    x = np.array([1, 2, 3])\n",
    "    y = np.array([4, 5, 6])\n",
    "    return x+y\n",
    "\n",
    "z = add()"
   ]
  },
  {
   "cell_type": "markdown",
   "metadata": {},
   "source": [
    "## ===============================================================\n",
    "\n",
    "1) The top lines will show where in your code there is a problem:\n",
    "\n",
    "``` python\n",
    "ValueError                                Traceback (most recent call last)\n",
    "<ipython-input-28-2ed152099238> in <module>\n",
    "      4     return y-x\n",
    "      5 \n",
    "----> 6 subtract()\n",
    "```\n",
    "2) At the bottom will be the error type and a small description\n",
    "\n",
    "```python\n",
    "ValueError: operands could not be broadcast together with shapes (4,) (3,) \n",
    "```"
   ]
  },
  {
   "cell_type": "code",
   "execution_count": null,
   "metadata": {},
   "outputs": [],
   "source": [
    "def subtract():\n",
    "    x = np.array([1, 2, 3])\n",
    "    y = np.array([4, 5, 6, 7])\n",
    "    return y-x\n",
    "\n",
    "subtract()"
   ]
  },
  {
   "cell_type": "markdown",
   "metadata": {},
   "source": [
    "## ===============================================================\n",
    "\n",
    "1) The top lines will show where in your code there is a problem:\n",
    "\n",
    "``` python\n",
    "---------------------------------------------------------------------------\n",
    "UFuncTypeError                            Traceback (most recent call last)\n",
    "<ipython-input-27-38bc2bf2be55> in <module>\n",
    "      4     return x*2\n",
    "      5 \n",
    "----> 6 z = add_2()\n",
    "```\n",
    "2) At the bottom will be the error type and a small description\n",
    "\n",
    "```python\n",
    "UFuncTypeError: ufunc 'add' did not contain a loop with signature matching types (dtype('<U21'), dtype('<U21')) -> dtype('<U21')\n",
    "```"
   ]
  },
  {
   "cell_type": "code",
   "execution_count": null,
   "metadata": {},
   "outputs": [],
   "source": [
    "def add_2():\n",
    "    x = np.array([1, '2', 3])\n",
    "    return x + 2\n",
    "\n",
    "z = add_2()"
   ]
  },
  {
   "cell_type": "markdown",
   "metadata": {},
   "source": [
    "## ===============================================================\n",
    "\n",
    "1) The top lines will show where in your code there is a problem:\n",
    "```python\n",
    "---------------------------------------------------------------------------\n",
    "TypeError                                 Traceback (most recent call last)\n",
    "<ipython-input-43-06e2c3fb7763> in <module>\n",
    "      1 hist = np.random.randint(0, 10, 1000)\n",
    "----> 2 plt.hist(hist, bins=3, range=4)\n",
    "      3 plt.show()\n",
    "```\n",
    "\n",
    "2) At the bottom will be the error type and a small description\n",
    "\n",
    "```python\n",
    "TypeError: cannot unpack non-iterable int object\n",
    "```\n",
    "\n",
    "Python is telling you that one of the input varialbe types in this function is wrong. It's useful to look at the documentation for the function to see what each of the types should be. (https://matplotlib.org/api/_as_gen/matplotlib.pyplot.hist.html)\n",
    "\n",
    "3) Everything inbetween is the libraries code. Unless you wrote the library don't worry too much about it."
   ]
  },
  {
   "cell_type": "code",
   "execution_count": null,
   "metadata": {},
   "outputs": [],
   "source": [
    "import matplotlib.pyplot as plt\n",
    "\n",
    "random_hist = np.random.randint(0, 10, 1000)\n",
    "plt.hist(random_hist, bins=10, range=4)\n",
    "plt.show()"
   ]
  },
  {
   "cell_type": "code",
   "execution_count": null,
   "metadata": {},
   "outputs": [],
   "source": []
  }
 ],
 "metadata": {
  "kernelspec": {
   "display_name": "Python 3",
   "language": "python",
   "name": "python3"
  },
  "language_info": {
   "codemirror_mode": {
    "name": "ipython",
    "version": 3
   },
   "file_extension": ".py",
   "mimetype": "text/x-python",
   "name": "python",
   "nbconvert_exporter": "python",
   "pygments_lexer": "ipython3",
   "version": "3.8.3"
  }
 },
 "nbformat": 4,
 "nbformat_minor": 2
}
