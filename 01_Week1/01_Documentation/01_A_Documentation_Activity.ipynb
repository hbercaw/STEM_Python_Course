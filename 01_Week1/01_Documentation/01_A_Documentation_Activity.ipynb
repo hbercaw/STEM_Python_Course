{
 "cells": [
  {
   "cell_type": "markdown",
   "metadata": {},
   "source": [
    "Here are some examples where directly Googling the header of each problem will give you a solution. For example, for the first problem you should Google \"python print every item in a dictionary stack overflow\". "
   ]
  },
  {
   "cell_type": "markdown",
   "metadata": {},
   "source": [
    "# Print every item in a dictionary"
   ]
  },
  {
   "cell_type": "code",
   "execution_count": 4,
   "metadata": {},
   "outputs": [
    {
     "name": "stdout",
     "output_type": "stream",
     "text": [
      "apples 2\n",
      "oranges 3\n",
      "bananas 6\n",
      "limes 2\n"
     ]
    }
   ],
   "source": [
    "myDictionary = {'apples':2,'oranges':3,'bananas':6,'limes':2}\n",
    "for index1, index2 in myDictionary.items():\n",
    "    print(index1,index2)\n",
    "# print every key,value pair in this dictionary\n"
   ]
  },
  {
   "cell_type": "markdown",
   "metadata": {},
   "source": [
    "# Combine two lists"
   ]
  },
  {
   "cell_type": "code",
   "execution_count": 8,
   "metadata": {},
   "outputs": [
    {
     "name": "stdout",
     "output_type": "stream",
     "text": [
      "1,2,3,4,5,6,7,8\n"
     ]
    }
   ],
   "source": [
    "myString1 = '1,2,3,4,'\n",
    "myString2 = '5,6,7,8'\n",
    "myString3 = myString1 + myString2\n",
    "print(myString3)\n",
    "# combine these two lists here\n"
   ]
  },
  {
   "cell_type": "markdown",
   "metadata": {},
   "source": [
    "# Create a scatter plot with two lists "
   ]
  },
  {
   "cell_type": "code",
   "execution_count": 7,
   "metadata": {},
   "outputs": [
    {
     "data": {
      "image/png": "[encoded data removed]",
      "text/plain": [
       "<Figure size 432x288 with 1 Axes>"
      ]
     },
     "metadata": {
      "needs_background": "light"
     },
     "output_type": "display_data"
    }
   ],
   "source": [
    "myList1 = [1,2,3,4]\n",
    "myList2 = [5,6,7,8]\n",
    "import matplotlib.pyplot\n",
    "matplotlib.pyplot.scatter(myList1,myList2)\n",
    "matplotlib.pyplot.show()\n",
    "\n",
    "# Create a scatter plot here"
   ]
  },
  {
   "cell_type": "markdown",
   "metadata": {},
   "source": [
    "# Multiply every item in a list by 2"
   ]
  },
  {
   "cell_type": "code",
   "execution_count": 16,
   "metadata": {},
   "outputs": [
    {
     "ename": "SyntaxError",
     "evalue": "invalid syntax (<ipython-input-16-073b8431513a>, line 3)",
     "output_type": "error",
     "traceback": [
      "\u001b[0;36m  File \u001b[0;32m\"<ipython-input-16-073b8431513a>\"\u001b[0;36m, line \u001b[0;32m3\u001b[0m\n\u001b[0;31m    myList1 = myList1[index]*2 for index\u001b[0m\n\u001b[0m                               ^\u001b[0m\n\u001b[0;31mSyntaxError\u001b[0m\u001b[0;31m:\u001b[0m invalid syntax\n"
     ]
    }
   ],
   "source": [
    "myList1 =[1,2,3,4]\n",
    "\n",
    "for index in range(len(myList1)):\n",
    "    myList1[index] = myList1[index]*2\n",
    "myList1 = myList1[index]*2 for index\n",
    "in range(len(myList1))  \n",
    "\n",
    "# multiply every item in a list by 2 here\n"
   ]
  },
  {
   "cell_type": "code",
   "execution_count": null,
   "metadata": {},
   "outputs": [],
   "source": []
  }
 ],
 "metadata": {
  "kernelspec": {
   "display_name": "Python 3",
   "language": "python",
   "name": "python3"
  },
  "language_info": {
   "codemirror_mode": {
    "name": "ipython",
    "version": 3
   },
   "file_extension": ".py",
   "mimetype": "text/x-python",
   "name": "python",
   "nbconvert_exporter": "python",
   "pygments_lexer": "ipython3",
   "version": "3.8.3"
  }
 },
 "nbformat": 4,
 "nbformat_minor": 2
}
